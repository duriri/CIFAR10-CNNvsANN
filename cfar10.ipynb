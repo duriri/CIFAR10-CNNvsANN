{
 "cells": [
  {
   "cell_type": "code",
   "execution_count": null,
   "metadata": {
    "id": "jvqHg00X8iIN"
   },
   "outputs": [],
   "source": [
    " import tensorflow as tf\n",
    "from tensorflow.keras import datasets, layers, models\n",
    "import matplotlib.pyplot as plt\n",
    "import numpy as np"
   ]
  },
  {
   "cell_type": "code",
   "execution_count": null,
   "metadata": {
    "colab": {
     "base_uri": "https://localhost:8080/"
    },
    "id": "ks40Iu3z8pmU",
    "outputId": "8410bc39-6558-4c3d-890e-8d0639cb0a8c"
   },
   "outputs": [
    {
     "name": "stdout",
     "output_type": "stream",
     "text": [
      "Downloading data from https://www.cs.toronto.edu/~kriz/cifar-10-python.tar.gz\n",
      "170498071/170498071 [==============================] - 3s 0us/step\n"
     ]
    },
    {
     "data": {
      "text/plain": [
       "(50000, 32, 32, 3)"
      ]
     },
     "execution_count": 2,
     "metadata": {},
     "output_type": "execute_result"
    }
   ],
   "source": [
    "#Load the dataset\n",
    "(X_train, y_train), (X_test,y_test) = datasets.cifar10.load_data()\n",
    "X_train.shape"
   ]
  },
  {
   "cell_type": "code",
   "execution_count": null,
   "metadata": {
    "colab": {
     "base_uri": "https://localhost:8080/"
    },
    "id": "hRXRhL-A9OLc",
    "outputId": "e0972a4c-d29c-4538-bd86-7724566cad2a"
   },
   "outputs": [
    {
     "data": {
      "text/plain": [
       "(10000, 32, 32, 3)"
      ]
     },
     "execution_count": 9,
     "metadata": {},
     "output_type": "execute_result"
    }
   ],
   "source": [
    "X_test.shape\n"
   ]
  },
  {
   "cell_type": "code",
   "execution_count": null,
   "metadata": {
    "colab": {
     "base_uri": "https://localhost:8080/"
    },
    "id": "dB2W0T68-MaV",
    "outputId": "b9d957c8-06cc-41c2-a83f-f4fd16ffe77d"
   },
   "outputs": [
    {
     "data": {
      "text/plain": [
       "array([9], dtype=uint8)"
      ]
     },
     "execution_count": 14,
     "metadata": {},
     "output_type": "execute_result"
    }
   ],
   "source": [
    "X_test[1]\n",
    "y_train[1]"
   ]
  },
  {
   "cell_type": "code",
   "execution_count": null,
   "metadata": {
    "colab": {
     "base_uri": "https://localhost:8080/"
    },
    "id": "sUrgGQ0F-sYv",
    "outputId": "f93e164c-c4f5-4a4c-81f6-b98d9337551e"
   },
   "outputs": [
    {
     "data": {
      "text/plain": [
       "array([[6],\n",
       "       [9],\n",
       "       [9],\n",
       "       ...,\n",
       "       [9],\n",
       "       [1],\n",
       "       [1]], dtype=uint8)"
      ]
     },
     "execution_count": 13,
     "metadata": {},
     "output_type": "execute_result"
    }
   ],
   "source": [
    "y_train"
   ]
  },
  {
   "cell_type": "code",
   "execution_count": null,
   "metadata": {
    "colab": {
     "base_uri": "https://localhost:8080/"
    },
    "id": "cdsD9a8--Mcl",
    "outputId": "0cc90a27-766a-4d5b-9d2e-8e17ed13a1ae"
   },
   "outputs": [
    {
     "data": {
      "text/plain": [
       "(50000, 32, 32, 3)"
      ]
     },
     "execution_count": 12,
     "metadata": {},
     "output_type": "execute_result"
    }
   ],
   "source": [
    "X_train.shape"
   ]
  },
  {
   "cell_type": "code",
   "execution_count": null,
   "metadata": {
    "colab": {
     "base_uri": "https://localhost:8080/"
    },
    "id": "OlKtN1gu9_9g",
    "outputId": "2c858173-b636-42e5-f389-0d4687248cb4"
   },
   "outputs": [
    {
     "data": {
      "text/plain": [
       "(50000, 1)"
      ]
     },
     "execution_count": 15,
     "metadata": {},
     "output_type": "execute_result"
    }
   ],
   "source": [
    "y_train.shape\n"
   ]
  },
  {
   "cell_type": "code",
   "execution_count": null,
   "metadata": {
    "id": "NxhQWI0X-9V6"
   },
   "outputs": [],
   "source": []
  },
  {
   "cell_type": "code",
   "execution_count": null,
   "metadata": {
    "colab": {
     "base_uri": "https://localhost:8080/"
    },
    "id": "Ejf9o749_VgD",
    "outputId": "4174edb0-3bfa-4857-954f-88fde6f2462a"
   },
   "outputs": [
    {
     "name": "stdout",
     "output_type": "stream",
     "text": [
      "<class 'numpy.ndarray'>\n"
     ]
    }
   ],
   "source": [
    "y_train[:5]\n",
    "print(type(y_train))"
   ]
  },
  {
   "cell_type": "markdown",
   "metadata": {
    "id": "jlJMDe1F-9uU"
   },
   "source": [
    "our y_train is 2D ,for our classification 1D array is better."
   ]
  },
  {
   "cell_type": "code",
   "execution_count": null,
   "metadata": {
    "id": "z7IhVDKT-Dfs"
   },
   "outputs": [],
   "source": [
    "y_train = y_train.reshape(-1,)\n"
   ]
  },
  {
   "cell_type": "code",
   "execution_count": null,
   "metadata": {
    "id": "fjx4XSwABU0C"
   },
   "outputs": [],
   "source": [
    "y_test = y_test.reshape(-1,)\n"
   ]
  },
  {
   "cell_type": "code",
   "execution_count": null,
   "metadata": {
    "id": "qGaLmXBVBVKF"
   },
   "outputs": [],
   "source": [
    "# for show xlabel we need this list \n",
    "classes = [\"airplane\",\"automobile\",\"bird\",\"cat\",\"deer\",\"dog\",\"frog\",\"horse\",\"ship\",\"truck\"]\n"
   ]
  },
  {
   "cell_type": "markdown",
   "metadata": {
    "id": "PfMSTG_uBcbT"
   },
   "source": [
    "plot some images to see what they are\n"
   ]
  },
  {
   "cell_type": "code",
   "execution_count": null,
   "metadata": {
    "id": "axL2SdNcBaza"
   },
   "outputs": [],
   "source": [
    "def plot_s(X, y, index):\n",
    "    plt.figure(figsize = (15,2))\n",
    "    plt.imshow(X[index])\n",
    "    plt.xlabel(classes[y[index]])\n"
   ]
  },
  {
   "cell_type": "code",
   "execution_count": null,
   "metadata": {
    "colab": {
     "base_uri": "https://localhost:8080/",
     "height": 453
    },
    "id": "q6RkSIWjBs30",
    "outputId": "9f1c74a5-e063-4d42-9094-7955b9b6237e"
   },
   "outputs": [
    {
     "ename": "TypeError",
     "evalue": "ignored",
     "output_type": "error",
     "traceback": [
      "\u001b[0;31m---------------------------------------------------------------------------\u001b[0m",
      "\u001b[0;31mTypeError\u001b[0m                                 Traceback (most recent call last)",
      "\u001b[0;32m<ipython-input-40-f2e4271febc3>\u001b[0m in \u001b[0;36m<cell line: 1>\u001b[0;34m()\u001b[0m\n\u001b[0;32m----> 1\u001b[0;31m \u001b[0mplot_s\u001b[0m\u001b[0;34m(\u001b[0m\u001b[0mX_train\u001b[0m\u001b[0;34m,\u001b[0m \u001b[0my_train\u001b[0m\u001b[0;34m,\u001b[0m \u001b[0;36m551\u001b[0m\u001b[0;34m)\u001b[0m\u001b[0;34m\u001b[0m\u001b[0;34m\u001b[0m\u001b[0m\n\u001b[0m",
      "\u001b[0;32m<ipython-input-38-0057dccadcf4>\u001b[0m in \u001b[0;36mplot_s\u001b[0;34m(X, y, index)\u001b[0m\n\u001b[1;32m      2\u001b[0m     \u001b[0mplt\u001b[0m\u001b[0;34m.\u001b[0m\u001b[0mfigure\u001b[0m\u001b[0;34m(\u001b[0m\u001b[0mfigsize\u001b[0m \u001b[0;34m=\u001b[0m \u001b[0;34m(\u001b[0m\u001b[0;36m15\u001b[0m\u001b[0;34m,\u001b[0m\u001b[0;36m2\u001b[0m\u001b[0;34m)\u001b[0m\u001b[0;34m)\u001b[0m\u001b[0;34m\u001b[0m\u001b[0;34m\u001b[0m\u001b[0m\n\u001b[1;32m      3\u001b[0m     \u001b[0mplt\u001b[0m\u001b[0;34m.\u001b[0m\u001b[0mimshow\u001b[0m\u001b[0;34m(\u001b[0m\u001b[0mX\u001b[0m\u001b[0;34m[\u001b[0m\u001b[0mindex\u001b[0m\u001b[0;34m]\u001b[0m\u001b[0;34m)\u001b[0m\u001b[0;34m\u001b[0m\u001b[0;34m\u001b[0m\u001b[0m\n\u001b[0;32m----> 4\u001b[0;31m     \u001b[0mplt\u001b[0m\u001b[0;34m.\u001b[0m\u001b[0mxlabel\u001b[0m\u001b[0;34m(\u001b[0m\u001b[0mclasses\u001b[0m\u001b[0;34m[\u001b[0m\u001b[0my\u001b[0m\u001b[0;34m[\u001b[0m\u001b[0mindex\u001b[0m\u001b[0;34m]\u001b[0m\u001b[0;34m]\u001b[0m\u001b[0;34m)\u001b[0m\u001b[0;34m\u001b[0m\u001b[0;34m\u001b[0m\u001b[0m\n\u001b[0m",
      "\u001b[0;31mTypeError\u001b[0m: only integer scalar arrays can be converted to a scalar index"
     ]
    },
    {
     "data": {
      "image/png": "[encoded data removed]",
      "text/plain": [
       "<Figure size 1500x200 with 1 Axes>"
      ]
     },
     "metadata": {},
     "output_type": "display_data"
    }
   ],
   "source": [
    "plot_s(X_train, y_train, 551)\n"
   ]
  },
  {
   "cell_type": "code",
   "execution_count": null,
   "metadata": {
    "colab": {
     "base_uri": "https://localhost:8080/",
     "height": 453
    },
    "id": "_-MvthPmBupO",
    "outputId": "2e33353b-3c4c-458d-b9a7-7da036ed766f"
   },
   "outputs": [
    {
     "ename": "TypeError",
     "evalue": "ignored",
     "output_type": "error",
     "traceback": [
      "\u001b[0;31m---------------------------------------------------------------------------\u001b[0m",
      "\u001b[0;31mTypeError\u001b[0m                                 Traceback (most recent call last)",
      "\u001b[0;32m<ipython-input-41-a6353ce32101>\u001b[0m in \u001b[0;36m<cell line: 1>\u001b[0;34m()\u001b[0m\n\u001b[0;32m----> 1\u001b[0;31m \u001b[0mplot_s\u001b[0m\u001b[0;34m(\u001b[0m\u001b[0mX_train\u001b[0m\u001b[0;34m,\u001b[0m \u001b[0my_train\u001b[0m\u001b[0;34m,\u001b[0m \u001b[0;36m1\u001b[0m\u001b[0;34m)\u001b[0m\u001b[0;34m\u001b[0m\u001b[0;34m\u001b[0m\u001b[0m\n\u001b[0m",
      "\u001b[0;32m<ipython-input-38-0057dccadcf4>\u001b[0m in \u001b[0;36mplot_s\u001b[0;34m(X, y, index)\u001b[0m\n\u001b[1;32m      2\u001b[0m     \u001b[0mplt\u001b[0m\u001b[0;34m.\u001b[0m\u001b[0mfigure\u001b[0m\u001b[0;34m(\u001b[0m\u001b[0mfigsize\u001b[0m \u001b[0;34m=\u001b[0m \u001b[0;34m(\u001b[0m\u001b[0;36m15\u001b[0m\u001b[0;34m,\u001b[0m\u001b[0;36m2\u001b[0m\u001b[0;34m)\u001b[0m\u001b[0;34m)\u001b[0m\u001b[0;34m\u001b[0m\u001b[0;34m\u001b[0m\u001b[0m\n\u001b[1;32m      3\u001b[0m     \u001b[0mplt\u001b[0m\u001b[0;34m.\u001b[0m\u001b[0mimshow\u001b[0m\u001b[0;34m(\u001b[0m\u001b[0mX\u001b[0m\u001b[0;34m[\u001b[0m\u001b[0mindex\u001b[0m\u001b[0;34m]\u001b[0m\u001b[0;34m)\u001b[0m\u001b[0;34m\u001b[0m\u001b[0;34m\u001b[0m\u001b[0m\n\u001b[0;32m----> 4\u001b[0;31m     \u001b[0mplt\u001b[0m\u001b[0;34m.\u001b[0m\u001b[0mxlabel\u001b[0m\u001b[0;34m(\u001b[0m\u001b[0mclasses\u001b[0m\u001b[0;34m[\u001b[0m\u001b[0my\u001b[0m\u001b[0;34m[\u001b[0m\u001b[0mindex\u001b[0m\u001b[0;34m]\u001b[0m\u001b[0;34m]\u001b[0m\u001b[0;34m)\u001b[0m\u001b[0;34m\u001b[0m\u001b[0;34m\u001b[0m\u001b[0m\n\u001b[0m",
      "\u001b[0;31mTypeError\u001b[0m: only integer scalar arrays can be converted to a scalar index"
     ]
    },
    {
     "data": {
      "image/png": "[encoded data removed]",
      "text/plain": [
       "<Figure size 1500x200 with 1 Axes>"
      ]
     },
     "metadata": {},
     "output_type": "display_data"
    }
   ],
   "source": [
    "plot_s(X_train, y_train, 1)\n"
   ]
  },
  {
   "cell_type": "code",
   "execution_count": null,
   "metadata": {
    "id": "u2QeFuLiCWdI"
   },
   "outputs": [],
   "source": []
  },
  {
   "cell_type": "markdown",
   "metadata": {
    "id": "dE6N7HkHRerx"
   },
   "source": [
    "##Normalizing the data"
   ]
  },
  {
   "cell_type": "code",
   "execution_count": null,
   "metadata": {
    "colab": {
     "base_uri": "https://localhost:8080/"
    },
    "id": "tXyOW8_acdXF",
    "outputId": "b40eae82-bc04-4d8c-d717-46a00a0339ea"
   },
   "outputs": [
    {
     "data": {
      "text/plain": [
       "array([[[158., 112.,  49.],\n",
       "        [159., 111.,  47.],\n",
       "        [165., 116.,  51.],\n",
       "        ...,\n",
       "        [137.,  95.,  36.],\n",
       "        [126.,  91.,  36.],\n",
       "        [116.,  85.,  33.]],\n",
       "\n",
       "       [[152., 112.,  51.],\n",
       "        [151., 110.,  40.],\n",
       "        [159., 114.,  45.],\n",
       "        ...,\n",
       "        [136.,  95.,  31.],\n",
       "        [125.,  91.,  32.],\n",
       "        [119.,  88.,  34.]],\n",
       "\n",
       "       [[151., 110.,  47.],\n",
       "        [151., 109.,  33.],\n",
       "        [158., 111.,  36.],\n",
       "        ...,\n",
       "        [139.,  98.,  34.],\n",
       "        [130.,  95.,  34.],\n",
       "        [120.,  89.,  33.]],\n",
       "\n",
       "       ...,\n",
       "\n",
       "       [[ 68., 124., 177.],\n",
       "        [ 42., 100., 148.],\n",
       "        [ 31.,  88., 137.],\n",
       "        ...,\n",
       "        [ 38.,  97., 146.],\n",
       "        [ 13.,  64., 108.],\n",
       "        [ 40.,  85., 127.]],\n",
       "\n",
       "       [[ 61., 116., 168.],\n",
       "        [ 49., 102., 148.],\n",
       "        [ 35.,  85., 132.],\n",
       "        ...,\n",
       "        [ 26.,  82., 130.],\n",
       "        [ 29.,  82., 126.],\n",
       "        [ 20.,  64., 107.]],\n",
       "\n",
       "       [[ 54., 107., 160.],\n",
       "        [ 56., 105., 149.],\n",
       "        [ 45.,  89., 132.],\n",
       "        ...,\n",
       "        [ 24.,  77., 124.],\n",
       "        [ 34.,  84., 129.],\n",
       "        [ 21.,  67., 110.]]])"
      ]
     },
     "execution_count": 45,
     "metadata": {},
     "output_type": "execute_result"
    }
   ],
   "source": [
    "X_test[0]"
   ]
  },
  {
   "cell_type": "code",
   "execution_count": null,
   "metadata": {
    "id": "qGYnIouLRgzJ"
   },
   "outputs": [],
   "source": [
    "X_train = X_train / 255.0\n",
    "X_test = X_test/ 255.0"
   ]
  },
  {
   "cell_type": "code",
   "execution_count": null,
   "metadata": {
    "colab": {
     "base_uri": "https://localhost:8080/"
    },
    "id": "vaNnFEhYctBU",
    "outputId": "c5a5d8e1-ef1b-4758-869a-cc155817e0a9"
   },
   "outputs": [
    {
     "data": {
      "text/plain": [
       "array([[[0.61960784, 0.43921569, 0.19215686],\n",
       "        [0.62352941, 0.43529412, 0.18431373],\n",
       "        [0.64705882, 0.45490196, 0.2       ],\n",
       "        ...,\n",
       "        [0.5372549 , 0.37254902, 0.14117647],\n",
       "        [0.49411765, 0.35686275, 0.14117647],\n",
       "        [0.45490196, 0.33333333, 0.12941176]],\n",
       "\n",
       "       [[0.59607843, 0.43921569, 0.2       ],\n",
       "        [0.59215686, 0.43137255, 0.15686275],\n",
       "        [0.62352941, 0.44705882, 0.17647059],\n",
       "        ...,\n",
       "        [0.53333333, 0.37254902, 0.12156863],\n",
       "        [0.49019608, 0.35686275, 0.1254902 ],\n",
       "        [0.46666667, 0.34509804, 0.13333333]],\n",
       "\n",
       "       [[0.59215686, 0.43137255, 0.18431373],\n",
       "        [0.59215686, 0.42745098, 0.12941176],\n",
       "        [0.61960784, 0.43529412, 0.14117647],\n",
       "        ...,\n",
       "        [0.54509804, 0.38431373, 0.13333333],\n",
       "        [0.50980392, 0.37254902, 0.13333333],\n",
       "        [0.47058824, 0.34901961, 0.12941176]],\n",
       "\n",
       "       ...,\n",
       "\n",
       "       [[0.26666667, 0.48627451, 0.69411765],\n",
       "        [0.16470588, 0.39215686, 0.58039216],\n",
       "        [0.12156863, 0.34509804, 0.5372549 ],\n",
       "        ...,\n",
       "        [0.14901961, 0.38039216, 0.57254902],\n",
       "        [0.05098039, 0.25098039, 0.42352941],\n",
       "        [0.15686275, 0.33333333, 0.49803922]],\n",
       "\n",
       "       [[0.23921569, 0.45490196, 0.65882353],\n",
       "        [0.19215686, 0.4       , 0.58039216],\n",
       "        [0.1372549 , 0.33333333, 0.51764706],\n",
       "        ...,\n",
       "        [0.10196078, 0.32156863, 0.50980392],\n",
       "        [0.11372549, 0.32156863, 0.49411765],\n",
       "        [0.07843137, 0.25098039, 0.41960784]],\n",
       "\n",
       "       [[0.21176471, 0.41960784, 0.62745098],\n",
       "        [0.21960784, 0.41176471, 0.58431373],\n",
       "        [0.17647059, 0.34901961, 0.51764706],\n",
       "        ...,\n",
       "        [0.09411765, 0.30196078, 0.48627451],\n",
       "        [0.13333333, 0.32941176, 0.50588235],\n",
       "        [0.08235294, 0.2627451 , 0.43137255]]])"
      ]
     },
     "execution_count": 47,
     "metadata": {},
     "output_type": "execute_result"
    }
   ],
   "source": [
    "X_test[0]"
   ]
  },
  {
   "cell_type": "markdown",
   "metadata": {
    "id": "3KU28gO2R3m3"
   },
   "source": [
    "***Build artificial neural network for image classification***\n",
    "\n"
   ]
  },
  {
   "cell_type": "code",
   "execution_count": null,
   "metadata": {
    "id": "njaH8c51efBi"
   },
   "outputs": [],
   "source": [
    "ann = models.Sequential([\n",
    "        layers.Flatten(input_shape=(32,32,3)),\n",
    "        layers.Dense(3000, activation='relu'),\n",
    "        layers.Dense(1000, activation='relu'),\n",
    "        layers.Dense(10, activation='softmax')    \n",
    "    ])\n"
   ]
  },
  {
   "cell_type": "code",
   "execution_count": null,
   "metadata": {
    "id": "eXr77Empefi5"
   },
   "outputs": [],
   "source": [
    "ann.compile(optimizer='SGD',\n",
    "              loss='sparse_categorical_crossentropy',\n",
    "              metrics=['accuracy'])\n"
   ]
  },
  {
   "cell_type": "code",
   "execution_count": null,
   "metadata": {
    "colab": {
     "base_uri": "https://localhost:8080/"
    },
    "id": "xQFwm0smefGi",
    "outputId": "261077dc-9b71-465a-8bd5-6ec91d8c5c41"
   },
   "outputs": [
    {
     "name": "stdout",
     "output_type": "stream",
     "text": [
      "1563/1563 [==============================] - 166s 106ms/step - loss: 2.2997 - accuracy: 0.1295\n"
     ]
    },
    {
     "data": {
      "text/plain": [
       "<keras.callbacks.History at 0x7fc6a16bda20>"
      ]
     },
     "execution_count": 53,
     "metadata": {},
     "output_type": "execute_result"
    }
   ],
   "source": [
    "ann.fit(X_train, y_train, epochs=1)\n"
   ]
  },
  {
   "cell_type": "code",
   "execution_count": null,
   "metadata": {
    "colab": {
     "base_uri": "https://localhost:8080/"
    },
    "id": "AtCCVHqFgARz",
    "outputId": "5123b130-a245-4d7c-e7ef-7705d220ea44"
   },
   "outputs": [
    {
     "name": "stdout",
     "output_type": "stream",
     "text": [
      "313/313 [==============================] - 11s 33ms/step\n",
      "Classification Report: \n",
      "               precision    recall  f1-score   support\n",
      "\n",
      "           0       0.00      0.00      0.00      1000\n",
      "           1       0.00      0.00      0.00      1000\n",
      "           2       0.16      0.00      0.01      1000\n",
      "           3       0.15      0.00      0.00      1000\n",
      "           4       0.00      0.00      0.00      1000\n",
      "           5       0.11      0.00      0.00      1000\n",
      "           6       0.00      0.00      0.00      1000\n",
      "           7       0.00      0.00      0.00      1000\n",
      "           8       0.10      0.90      0.18      1000\n",
      "           9       0.24      0.25      0.25      1000\n",
      "\n",
      "    accuracy                           0.12     10000\n",
      "   macro avg       0.08      0.12      0.04     10000\n",
      "weighted avg       0.08      0.12      0.04     10000\n",
      "\n"
     ]
    },
    {
     "name": "stderr",
     "output_type": "stream",
     "text": [
      "/usr/local/lib/python3.10/dist-packages/sklearn/metrics/_classification.py:1344: UndefinedMetricWarning: Precision and F-score are ill-defined and being set to 0.0 in labels with no predicted samples. Use `zero_division` parameter to control this behavior.\n",
      "  _warn_prf(average, modifier, msg_start, len(result))\n",
      "/usr/local/lib/python3.10/dist-packages/sklearn/metrics/_classification.py:1344: UndefinedMetricWarning: Precision and F-score are ill-defined and being set to 0.0 in labels with no predicted samples. Use `zero_division` parameter to control this behavior.\n",
      "  _warn_prf(average, modifier, msg_start, len(result))\n",
      "/usr/local/lib/python3.10/dist-packages/sklearn/metrics/_classification.py:1344: UndefinedMetricWarning: Precision and F-score are ill-defined and being set to 0.0 in labels with no predicted samples. Use `zero_division` parameter to control this behavior.\n",
      "  _warn_prf(average, modifier, msg_start, len(result))\n"
     ]
    }
   ],
   "source": [
    "from sklearn.metrics import confusion_matrix , classification_report\n",
    "import numpy as np\n",
    "y_pred = ann.predict(X_test)\n",
    "y_pred_classes = [np.argmax(element) for element in y_pred]\n",
    "\n",
    "print(\"Classification Report: \\n\", classification_report(y_test, y_pred_classes))"
   ]
  },
  {
   "cell_type": "markdown",
   "metadata": {
    "id": "2SYt01jMgIrM"
   },
   "source": [
    "## Now let us build a convolutional neural network to train our images"
   ]
  },
  {
   "cell_type": "code",
   "execution_count": null,
   "metadata": {
    "id": "m1ZS1wAinJno"
   },
   "outputs": [],
   "source": [
    "cnn = models.Sequential([\n",
    "    #cnn\n",
    "    layers.Conv2D(filters=26, kernel_size=(2, 2), activation='relu', input_shape=(32, 32, 3)),\n",
    "    layers.MaxPooling2D((2, 2)),\n",
    "    \n",
    "    layers.Conv2D(filters=64, kernel_size=(3, 3), activation='relu'),\n",
    "    layers.MaxPooling2D((2, 2)),\n",
    "    #dense\n",
    "    layers.Flatten(),\n",
    "    layers.Dense(64, activation='relu'),\n",
    "    layers.Dense(10, activation='softmax')\n",
    "])"
   ]
  },
  {
   "cell_type": "code",
   "execution_count": null,
   "metadata": {
    "id": "SI1b2Kl3obHo"
   },
   "outputs": [],
   "source": [
    "cnn.compile(optimizer='adam',\n",
    "              loss='sparse_categorical_crossentropy',\n",
    "              metrics=['accuracy'])"
   ]
  },
  {
   "cell_type": "code",
   "execution_count": null,
   "metadata": {
    "colab": {
     "base_uri": "https://localhost:8080/"
    },
    "id": "QuP8U_geocpo",
    "outputId": "4c9d1234-d7c3-43b2-e6b3-ad1579876ac9"
   },
   "outputs": [
    {
     "name": "stdout",
     "output_type": "stream",
     "text": [
      "Epoch 1/10\n",
      "1563/1563 [==============================] - 63s 40ms/step - loss: 2.2440 - accuracy: 0.1474\n",
      "Epoch 2/10\n",
      "1563/1563 [==============================] - 64s 41ms/step - loss: 2.0597 - accuracy: 0.2518\n",
      "Epoch 3/10\n",
      "1563/1563 [==============================] - 63s 40ms/step - loss: 1.9951 - accuracy: 0.2806\n",
      "Epoch 4/10\n",
      "1563/1563 [==============================] - 62s 39ms/step - loss: 1.9474 - accuracy: 0.2971\n",
      "Epoch 5/10\n",
      "1563/1563 [==============================] - 63s 40ms/step - loss: 1.9179 - accuracy: 0.3083\n",
      "Epoch 6/10\n",
      "1563/1563 [==============================] - 62s 40ms/step - loss: 1.8913 - accuracy: 0.3192\n",
      "Epoch 7/10\n",
      "1563/1563 [==============================] - 62s 40ms/step - loss: 1.8694 - accuracy: 0.3279\n",
      "Epoch 8/10\n",
      "1563/1563 [==============================] - 62s 40ms/step - loss: 1.8510 - accuracy: 0.3335\n",
      "Epoch 9/10\n",
      "1563/1563 [==============================] - 62s 40ms/step - loss: 1.8360 - accuracy: 0.3394\n",
      "Epoch 10/10\n",
      "1563/1563 [==============================] - 63s 40ms/step - loss: 1.8226 - accuracy: 0.3458\n"
     ]
    },
    {
     "data": {
      "text/plain": [
       "<keras.callbacks.History at 0x7fc699dbad10>"
      ]
     },
     "execution_count": 57,
     "metadata": {},
     "output_type": "execute_result"
    }
   ],
   "source": [
    "cnn.fit(X_train, y_train, epochs=10)\n"
   ]
  },
  {
   "cell_type": "code",
   "execution_count": null,
   "metadata": {
    "colab": {
     "base_uri": "https://localhost:8080/"
    },
    "id": "KRKuxHjtpJr1",
    "outputId": "d8cad91f-6043-4bba-f5c7-5ffe729e554b"
   },
   "outputs": [
    {
     "name": "stdout",
     "output_type": "stream",
     "text": [
      "313/313 [==============================] - 65s 15ms/step - loss: 427.5314 - accuracy: 0.1750\n"
     ]
    },
    {
     "data": {
      "text/plain": [
       "[427.5314025878906, 0.17499999701976776]"
      ]
     },
     "execution_count": 58,
     "metadata": {},
     "output_type": "execute_result"
    }
   ],
   "source": [
    "cnn.evaluate(X_test,y_test)\n"
   ]
  },
  {
   "cell_type": "code",
   "execution_count": null,
   "metadata": {
    "id": "4b1B2S4vocz8"
   },
   "outputs": [],
   "source": [
    "y_pred = cnn.predict(X_test)\n",
    "y_pred[:5]"
   ]
  },
  {
   "cell_type": "code",
   "execution_count": null,
   "metadata": {
    "id": "w3JHck1oobR-"
   },
   "outputs": [],
   "source": [
    "y_classes = [np.argmax(element) for element in y_pred]\n",
    "y_classes[:5]"
   ]
  },
  {
   "cell_type": "code",
   "execution_count": null,
   "metadata": {
    "id": "n1oAi_TFpcht"
   },
   "outputs": [],
   "source": [
    "y_test[:5]\n"
   ]
  }
 ],
 "metadata": {
  "colab": {
   "provenance": []
  },
  "kernelspec": {
   "display_name": "Python 3 (ipykernel)",
   "language": "python",
   "name": "python3"
  },
  "language_info": {
   "codemirror_mode": {
    "name": "ipython",
    "version": 3
   },
   "file_extension": ".py",
   "mimetype": "text/x-python",
   "name": "python",
   "nbconvert_exporter": "python",
   "pygments_lexer": "ipython3",
   "version": "3.10.9"
  }
 },
 "nbformat": 4,
 "nbformat_minor": 1
}
